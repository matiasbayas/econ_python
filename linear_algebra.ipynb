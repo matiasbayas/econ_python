{
 "cells": [
  {
   "cell_type": "markdown",
   "metadata": {},
   "source": [
    "# Introduction to Linear Algebra with Python\n",
    "### Matias Bayas-Erazo\n",
    "\n",
    "This notebook introduces the functions and methods available in Python to do simple vector and matrix computations.\n",
    "\n",
    "#### 1. Inner Product and Norm:\n",
    "\n",
    "Recall that the inner produce of two vectors $x,y \\in R^n$ is given by:\n",
    "\n",
    "$$ x'y = \\sum_{i=1}^n x_i y_i $$\n",
    "\n",
    "This can be easily computed as follows:"
   ]
  },
  {
   "cell_type": "code",
   "execution_count": 3,
   "metadata": {},
   "outputs": [
    {
     "data": {
      "text/plain": [
       "15.0"
      ]
     },
     "execution_count": 3,
     "metadata": {},
     "output_type": "execute_result"
    }
   ],
   "source": [
    "import numpy as np\n",
    "\n",
    "x = np.ones(3)\n",
    "y = np.array((3, 5, 7))\n",
    "\n",
    "sum(x*y) # Computes the inner product of x and y"
   ]
  },
  {
   "cell_type": "markdown",
   "metadata": {},
   "source": [
    "On the other hand the norm of a vector is, \n",
    "\n",
    "$$ ||x|| = \\sqrt{x'x} = \\left(\\sum_{i=1}^n x_i^2 \\right)^{1/2} $$\n",
    "\n",
    "This can be calculated by Python using standard functions or by accesing `np.linalg`"
   ]
  },
  {
   "cell_type": "code",
   "execution_count": 4,
   "metadata": {},
   "outputs": [
    {
     "data": {
      "text/plain": [
       "1.7320508075688772"
      ]
     },
     "execution_count": 4,
     "metadata": {},
     "output_type": "execute_result"
    }
   ],
   "source": [
    "np.sqrt(np.sum(x**2)) # Norm of x, version 1"
   ]
  },
  {
   "cell_type": "code",
   "execution_count": 5,
   "metadata": {},
   "outputs": [
    {
     "data": {
      "text/plain": [
       "1.7320508075688772"
      ]
     },
     "execution_count": 5,
     "metadata": {},
     "output_type": "execute_result"
    }
   ],
   "source": [
    "np.linalg.norm(x) # Norm of x, version 2"
   ]
  },
  {
   "cell_type": "markdown",
   "metadata": {},
   "source": [
    "#### 2. Matrices\n",
    "\n",
    "NumPy arrays can also be used as matrices. For example, we can create a 2 by 2 matrix as follows:"
   ]
  },
  {
   "cell_type": "code",
   "execution_count": 10,
   "metadata": {},
   "outputs": [
    {
     "data": {
      "text/plain": [
       "(2, 2)"
      ]
     },
     "execution_count": 10,
     "metadata": {},
     "output_type": "execute_result"
    }
   ],
   "source": [
    "A = np.ones((2,2))\n",
    "A.shape"
   ]
  },
  {
   "cell_type": "markdown",
   "metadata": {},
   "source": [
    "The shape attribute is a tuple giving the number of rows and columns. To get the transpose of A simply use `A.transpose` or `A.T`. Matrix operations are very simple as well. In the following, I create an identity matrix and then show how matrix addition, scalar multiplication, and matrix multiplication can be implemented in Python."
   ]
  },
  {
   "cell_type": "code",
   "execution_count": 14,
   "metadata": {},
   "outputs": [
    {
     "data": {
      "text/plain": [
       "array([[ 2.,  0.],\n",
       "       [ 0.,  2.]])"
      ]
     },
     "execution_count": 14,
     "metadata": {},
     "output_type": "execute_result"
    }
   ],
   "source": [
    "B = np.identity(2)\n",
    "2*B # Scalar multiplication"
   ]
  },
  {
   "cell_type": "code",
   "execution_count": 15,
   "metadata": {},
   "outputs": [
    {
     "data": {
      "text/plain": [
       "array([[ 2.,  1.],\n",
       "       [ 1.,  2.]])"
      ]
     },
     "execution_count": 15,
     "metadata": {},
     "output_type": "execute_result"
    }
   ],
   "source": [
    "A + B # Matrix addition"
   ]
  },
  {
   "cell_type": "code",
   "execution_count": 16,
   "metadata": {},
   "outputs": [
    {
     "data": {
      "text/plain": [
       "array([[ 1.,  1.],\n",
       "       [ 1.,  1.]])"
      ]
     },
     "execution_count": 16,
     "metadata": {},
     "output_type": "execute_result"
    }
   ],
   "source": [
    "A @ B # Matrix multiplication"
   ]
  },
  {
   "cell_type": "markdown",
   "metadata": {},
   "source": [
    "We have to be careful because `A*B` is not the product of matrices A and B. It returns the element by element product.\n",
    "\n",
    "#### 3. Linear Equations with SciPy\n",
    "\n",
    "The following is an illustration of how to solve linear equations with SciPy's `linalg` subpackage. The idea is to use methods that allow us to find a solution to system of equations that have the following form:\n",
    "\n",
    "$$ y = Ax $$\n"
   ]
  },
  {
   "cell_type": "code",
   "execution_count": 25,
   "metadata": {},
   "outputs": [
    {
     "data": {
      "text/plain": [
       "-2.0"
      ]
     },
     "execution_count": 25,
     "metadata": {},
     "output_type": "execute_result"
    }
   ],
   "source": [
    "import numpy as np\n",
    "from scipy.linalg import inv, solve, det\n",
    "\n",
    "A = np.array((1,2,3,4))\n",
    "A.shape = (2,2)\n",
    "y = np.ones((2,1))\n",
    "det(A) # Check that A is non-singular."
   ]
  },
  {
   "cell_type": "code",
   "execution_count": 33,
   "metadata": {},
   "outputs": [],
   "source": [
    "A_inv = inv(A) # Compute inverse\n",
    "\n",
    "# Find solution, method 1:\n",
    "x1 = A_inv @ y\n",
    "\n",
    "# Find solution, method 2:\n",
    "x2 = solve(A, y)"
   ]
  },
  {
   "cell_type": "markdown",
   "metadata": {},
   "source": [
    "The second method is preferred because the algorithm is more stable. To check that we have the right solution, we can compute $Ax$, which should equal y:"
   ]
  },
  {
   "cell_type": "code",
   "execution_count": 35,
   "metadata": {},
   "outputs": [
    {
     "data": {
      "text/plain": [
       "array([[ 1.],\n",
       "       [ 1.]])"
      ]
     },
     "execution_count": 35,
     "metadata": {},
     "output_type": "execute_result"
    }
   ],
   "source": [
    "A @ x2"
   ]
  },
  {
   "cell_type": "markdown",
   "metadata": {},
   "source": [
    "#### 4. Eigenvalues and Eigenvectors\n",
    "\n",
    "Using SciPy we can also solve for the eigenvalues and and eigenvectors of a matrix as follows:"
   ]
  },
  {
   "cell_type": "code",
   "execution_count": 41,
   "metadata": {},
   "outputs": [
    {
     "name": "stdout",
     "output_type": "stream",
     "text": [
      "[ 3.+0.j -1.+0.j]\n",
      "[[ 0.70710678 -0.70710678]\n",
      " [ 0.70710678  0.70710678]]\n"
     ]
    }
   ],
   "source": [
    "from scipy.linalg import eig\n",
    "\n",
    "A = ((1,2),(2,1))\n",
    "A = np.array(A)\n",
    "evals, evecs = eig(A)\n",
    "print(evals) \n",
    "print(evecs)"
   ]
  },
  {
   "cell_type": "markdown",
   "metadata": {},
   "source": [
    "#### 5. Projections and Orthonormal vectors\n",
    "\n",
    "The following function computes the orthonormal vectors of of the space spanned by the linearly independent columns of X. Recall the result that states that for any linearly independent set, $(x_1, ... x_k)$, there exists a set of orthonormal vectors $(u_1, ... , u_k)$ that span the same space. Implementation uses the Gram-Schmidt orthogonalization. "
   ]
  },
  {
   "cell_type": "code",
   "execution_count": 56,
   "metadata": {
    "collapsed": true
   },
   "outputs": [],
   "source": [
    "import numpy as np\n",
    "\n",
    "def gram_schmidt(X):\n",
    "\n",
    "    \"\"\"\n",
    "    Implements Gram-Schmidt orthogonalization.\n",
    "\n",
    "    Parameters\n",
    "    X : an n x k array with linearly independent columns\n",
    "\n",
    "    Returns\n",
    "    U : an n x k array with orthonormal columns\n",
    "\n",
    "    \"\"\"\n",
    "    \n",
    "    # Set up:\n",
    "    n, k = X.shape\n",
    "    U = np.empty((n,k))\n",
    "    \n",
    "    # The first column of U is a normalization of the first column of X:\n",
    "    v1 = X[:,0]\n",
    "    U[:,0] = v1/np.sqrt(np.sum(v1**2))\n",
    "    \n",
    "    # Loop for the orthogonal projections of the columns of X:\n",
    "    \n",
    "    for i in range(1,k):\n",
    "        x = X[:,i] # Column to project\n",
    "        Z = X[:, 0:i]   # first i-1 columns of X (?)\n",
    "        \n",
    "        M = np.eye(n) - Z@np.linalg.inv(Z.T @ Z)@Z.T\n",
    "        \n",
    "        # Project column:\n",
    "        u =  M@x\n",
    "        U[:,i] = u / np.sqrt(np.sum(u**2))\n",
    "\n",
    "    return U\n",
    "    "
   ]
  },
  {
   "cell_type": "markdown",
   "metadata": {},
   "source": [
    "\n",
    "We will now work with some arrays and project vectors using various methods. We begin by using the projection matrix $P_X = X(X'X)^{-1}X'$ to project y onto $S_X$."
   ]
  },
  {
   "cell_type": "code",
   "execution_count": 57,
   "metadata": {},
   "outputs": [
    {
     "data": {
      "text/plain": [
       "array([-0.56521739,  3.26086957, -2.2173913 ])"
      ]
     },
     "execution_count": 57,
     "metadata": {},
     "output_type": "execute_result"
    }
   ],
   "source": [
    "# Setup:\n",
    "y = [1, 3, -3]\n",
    "\n",
    "X = [[1, 0],\n",
    "     [0, -6],\n",
    "     [2, 2]]\n",
    "\n",
    "X, y = [np.asarray(z) for z in (X, y)]\n",
    "        \n",
    "    \n",
    "# Projects y into column space of X:\n",
    "Py1 = X@np.linalg.inv(X.T@X)@X.T @y\n",
    "Py1\n",
    "    "
   ]
  },
  {
   "cell_type": "markdown",
   "metadata": {},
   "source": [
    "Let's now try to project y using the orthonormal basis that can be computed using the function `gram_schmidt`:"
   ]
  },
  {
   "cell_type": "code",
   "execution_count": 59,
   "metadata": {},
   "outputs": [
    {
     "data": {
      "text/plain": [
       "array([-0.56521739,  3.26086957, -2.2173913 ])"
      ]
     },
     "execution_count": 59,
     "metadata": {},
     "output_type": "execute_result"
    }
   ],
   "source": [
    "U = gram_schmidt(X) # Gets the orthonormal vectors\n",
    "Py2 = U@U.T@y # Projects\n",
    "Py2\n"
   ]
  },
  {
   "cell_type": "markdown",
   "metadata": {},
   "source": [
    "A third way to project $y$ is using QR decomposition:"
   ]
  },
  {
   "cell_type": "code",
   "execution_count": 63,
   "metadata": {},
   "outputs": [
    {
     "data": {
      "text/plain": [
       "array([-0.56521739,  3.26086957, -2.2173913 ])"
      ]
     },
     "execution_count": 63,
     "metadata": {},
     "output_type": "execute_result"
    }
   ],
   "source": [
    "from scipy.linalg import qr\n",
    "\n",
    "Q, R = qr(X, mode='economic')\n",
    "\n",
    "Py3 = Q@Q.T@y\n",
    "Py3"
   ]
  }
 ],
 "metadata": {
  "kernelspec": {
   "display_name": "Python 3",
   "language": "python",
   "name": "python3"
  },
  "language_info": {
   "codemirror_mode": {
    "name": "ipython",
    "version": 3
   },
   "file_extension": ".py",
   "mimetype": "text/x-python",
   "name": "python",
   "nbconvert_exporter": "python",
   "pygments_lexer": "ipython3",
   "version": "3.6.1"
  }
 },
 "nbformat": 4,
 "nbformat_minor": 2
}
