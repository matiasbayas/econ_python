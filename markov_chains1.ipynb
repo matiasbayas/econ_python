{
 "cells": [
  {
   "cell_type": "markdown",
   "metadata": {},
   "source": [
    "# Introduction to Simulating Markov Chains\n",
    "### Matias Bayas-Erazo\n",
    "\n",
    "This notebook lays out a simulation of a very simple finite state Markov Chain. The transition probabilities can be found here:\n",
    "https://lectures.quantecon.org/_images/nfs_ex1.png\n",
    "\n",
    "We will simulate a sequence of states according to these transition probabilities first using a pure Python implementation and then Numbas and Cython to compare the speeds between the different implementations. \n",
    "\n",
    "#### 1. Pyhton Implementation\n",
    "\n",
    "For the Python implementation, as a first pass I define a function `markov1` that takes as parameters the desired length of the sequence and the transition probabilities. The code below is more about clarity than efficiency. "
   ]
  },
  {
   "cell_type": "code",
   "execution_count": 52,
   "metadata": {},
   "outputs": [],
   "source": [
    "import numpy as np\n",
    "\n",
    "def markov1(n,h_h,l_l):\n",
    "    \n",
    "    # States:\n",
    "    states = [1, 0]  # 1 for high, 0 for low\n",
    "    \n",
    "    # Initial state\n",
    "    init_state = states[0]\n",
    "    \n",
    "    # Empty array to store sequence of states:\n",
    "    seq_states = np.empty(n)\n",
    "    seq_states[0] = init_state\n",
    "    x = np.random.uniform(0,1, size = n)\n",
    "\n",
    "    # Main loop\n",
    "    i = 0 \n",
    "    while i < n-1:\n",
    "        if seq_states[i] == 1:\n",
    "            if x[i] <= h_h:\n",
    "                seq_states[i+1] = states[0]\n",
    "            else:\n",
    "                seq_states[i+1] = states[1]         \n",
    "        else:\n",
    "            if x[i] <= l_l:\n",
    "                seq_states[i+1] = states[1]\n",
    "            else:\n",
    "                seq_states[i+1] = states[0] \n",
    "        i += 1\n",
    "    return(seq_states)\n"
   ]
  },
  {
   "cell_type": "markdown",
   "metadata": {},
   "source": [
    "To make the code above more efficient, we proceed as follows:\n",
    "    "
   ]
  },
  {
   "cell_type": "code",
   "execution_count": 53,
   "metadata": {},
   "outputs": [],
   "source": [
    "def markov(n,h_h,l_l):\n",
    "    # Initial state\n",
    "    init_state = 1\n",
    "    \n",
    "    # Empty array to store sequence of states:\n",
    "    seq_states = np.empty(n)\n",
    "    seq_states[0] = init_state\n",
    "    x = np.random.uniform(0,1, size = n)\n",
    "\n",
    "    # Main loop\n",
    "    i = 0 \n",
    "    while i < n-1:\n",
    "        if seq_states[i] == 1:\n",
    "            seq_states[i+1] = x[i] < h_h     \n",
    "        else:\n",
    "            seq_states[i+1] = x[i] > l_l\n",
    "        i += 1\n",
    "    return(seq_states)\n"
   ]
  },
  {
   "cell_type": "markdown",
   "metadata": {},
   "source": [
    "#### 2. Numba\n",
    "\n",
    "Recall that we can speed up our functions created in Python using the package `numba` that automatically compiles the function for us. We import from `numba` the `jit` method and then simply pass our function to it:"
   ]
  },
  {
   "cell_type": "code",
   "execution_count": 54,
   "metadata": {
    "collapsed": true
   },
   "outputs": [],
   "source": [
    "from numba import jit\n",
    "markov_numba = jit(markov)"
   ]
  },
  {
   "cell_type": "markdown",
   "metadata": {},
   "source": [
    "Recall that if we don't want a different name for our function, we can simply compile the original one using the `@jit` decorator notation on top of our function."
   ]
  },
  {
   "cell_type": "markdown",
   "metadata": {},
   "source": [
    "#### 3. Cython\n",
    "\n",
    "Finally, for our Cython implementation, we proceed as follows. First, we load the Cython extension in a notebook cell:"
   ]
  },
  {
   "cell_type": "code",
   "execution_count": 25,
   "metadata": {
    "collapsed": true
   },
   "outputs": [],
   "source": [
    "%load_ext Cython"
   ]
  },
  {
   "cell_type": "markdown",
   "metadata": {},
   "source": [
    "Now, we can write our Cython code by beginning the cell with `%%cython` which tells the computer we are writing Cyhton code:"
   ]
  },
  {
   "cell_type": "code",
   "execution_count": 55,
   "metadata": {},
   "outputs": [],
   "source": [
    "%%cython\n",
    "import numpy as np\n",
    "from numpy cimport int_t, float_t\n",
    "\n",
    "def markov_cython(int n, double h_h, double l_l):\n",
    "\n",
    "    # First, create numpy arrays for storing the sequence of states and the random draws.\n",
    "    states_np_array = np.empty(n, dtype = int)\n",
    "    x_np = np.random.uniform(0,1, size = n)\n",
    "\n",
    "    # Create memoryviews of the arrays\n",
    "    cdef int_t [:] states = states_np_array\n",
    "    cdef float_t [:] x = x_np\n",
    "    \n",
    "    # Initial state\n",
    "    states[0] = 1\n",
    "    \n",
    "    # Main Loop\n",
    "    cdef int i = 0 \n",
    "    while i < n-1:\n",
    "        if states[i] == 1:\n",
    "            states[i+1] = x[i] < h_h     \n",
    "        else:\n",
    "            states[i+1] = x[i] > l_l\n",
    "        i += 1\n",
    "    return np.asarray(states)\n",
    "    "
   ]
  },
  {
   "cell_type": "markdown",
   "metadata": {},
   "source": [
    "#### 4. Speed Comparison\n",
    "Now, that we have the three versions we can compare the speeds and determine which one performs better:"
   ]
  },
  {
   "cell_type": "code",
   "execution_count": 56,
   "metadata": {},
   "outputs": [
    {
     "name": "stdout",
     "output_type": "stream",
     "text": [
      "10 loops, best of 3: 102 ms per loop\n"
     ]
    }
   ],
   "source": [
    "%timeit markov(100000,0.8,0.9)"
   ]
  },
  {
   "cell_type": "code",
   "execution_count": 58,
   "metadata": {},
   "outputs": [
    {
     "name": "stdout",
     "output_type": "stream",
     "text": [
      "1000 loops, best of 3: 1.17 ms per loop\n"
     ]
    }
   ],
   "source": [
    "%timeit markov_numba(100000,0.8,0.9)"
   ]
  },
  {
   "cell_type": "code",
   "execution_count": 59,
   "metadata": {},
   "outputs": [
    {
     "name": "stdout",
     "output_type": "stream",
     "text": [
      "1000 loops, best of 3: 1.72 ms per loop\n"
     ]
    }
   ],
   "source": [
    "%timeit markov_cython(100000,0.8,0.9)"
   ]
  },
  {
   "cell_type": "markdown",
   "metadata": {},
   "source": [
    "Clearly, the fastest implementation is Numba. The Cython implementation is quite close but still falls behind. Either way, we can achieve significant improvements in speed by using Numba or programmin in Cython"
   ]
  }
 ],
 "metadata": {
  "kernelspec": {
   "display_name": "Python 3",
   "language": "python",
   "name": "python3"
  },
  "language_info": {
   "codemirror_mode": {
    "name": "ipython",
    "version": 3
   },
   "file_extension": ".py",
   "mimetype": "text/x-python",
   "name": "python",
   "nbconvert_exporter": "python",
   "pygments_lexer": "ipython3",
   "version": "3.6.1"
  }
 },
 "nbformat": 4,
 "nbformat_minor": 2
}
